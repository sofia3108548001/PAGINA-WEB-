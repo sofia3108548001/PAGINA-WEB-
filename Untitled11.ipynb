{
  "nbformat": 4,
  "nbformat_minor": 0,
  "metadata": {
    "colab": {
      "provenance": [],
      "authorship_tag": "ABX9TyMME2ldElK4cE9lynV6CGr7",
      "include_colab_link": true
    },
    "kernelspec": {
      "name": "python3",
      "display_name": "Python 3"
    },
    "language_info": {
      "name": "python"
    }
  },
  "cells": [
    {
      "cell_type": "markdown",
      "metadata": {
        "id": "view-in-github",
        "colab_type": "text"
      },
      "source": [
        "<a href=\"https://colab.research.google.com/github/sofia3108548001/PAGINA-WEB-/blob/main/Untitled11.ipynb\" target=\"_parent\"><img src=\"https://colab.research.google.com/assets/colab-badge.svg\" alt=\"Open In Colab\"/></a>"
      ]
    },
    {
      "cell_type": "code",
      "execution_count": 1,
      "metadata": {
        "colab": {
          "base_uri": "https://localhost:8080/"
        },
        "id": "cn5XWCR6ru5p",
        "outputId": "91b24848-1f44-4d52-fdaf-43179b33574e"
      },
      "outputs": [
        {
          "output_type": "execute_result",
          "data": {
            "text/plain": [
              "3.6804078416299673"
            ]
          },
          "metadata": {},
          "execution_count": 1
        }
      ],
      "source": [
        "\n",
        "import math\n",
        "import numpy as np\n",
        "resultado=math.log(12+math.sin(math.pi/2))+math.sqrt(math.atan(2.56+math.pi/8)) #math se usa para generar  1 solo valor\n",
        "resultado\n",
        ""
      ]
    },
    {
      "cell_type": "code",
      "source": [
        "\n",
        "#linspace\n",
        "#genera numeros exispaciados\n",
        "valores=np.linspace(0,100,50)\n",
        "valores"
      ],
      "metadata": {
        "colab": {
          "base_uri": "https://localhost:8080/"
        },
        "id": "PFPNBTQ0rw09",
        "outputId": "b3371d97-9c31-4130-937c-adec473ad38a"
      },
      "execution_count": 2,
      "outputs": [
        {
          "output_type": "execute_result",
          "data": {
            "text/plain": [
              "array([  0.        ,   2.04081633,   4.08163265,   6.12244898,\n",
              "         8.16326531,  10.20408163,  12.24489796,  14.28571429,\n",
              "        16.32653061,  18.36734694,  20.40816327,  22.44897959,\n",
              "        24.48979592,  26.53061224,  28.57142857,  30.6122449 ,\n",
              "        32.65306122,  34.69387755,  36.73469388,  38.7755102 ,\n",
              "        40.81632653,  42.85714286,  44.89795918,  46.93877551,\n",
              "        48.97959184,  51.02040816,  53.06122449,  55.10204082,\n",
              "        57.14285714,  59.18367347,  61.2244898 ,  63.26530612,\n",
              "        65.30612245,  67.34693878,  69.3877551 ,  71.42857143,\n",
              "        73.46938776,  75.51020408,  77.55102041,  79.59183673,\n",
              "        81.63265306,  83.67346939,  85.71428571,  87.75510204,\n",
              "        89.79591837,  91.83673469,  93.87755102,  95.91836735,\n",
              "        97.95918367, 100.        ])"
            ]
          },
          "metadata": {},
          "execution_count": 2
        }
      ]
    },
    {
      "cell_type": "code",
      "source": [
        "\n",
        "nuevos_valores =np.where(valores<30, valores, 0) #devuelve los valores de mi arreglo\n",
        "nuevos_valores"
      ],
      "metadata": {
        "colab": {
          "base_uri": "https://localhost:8080/"
        },
        "id": "eALJsoEWr2p_",
        "outputId": "02641024-c90d-40c8-bd7a-067cd6cfb90e"
      },
      "execution_count": 3,
      "outputs": [
        {
          "output_type": "execute_result",
          "data": {
            "text/plain": [
              "array([ 0.        ,  2.04081633,  4.08163265,  6.12244898,  8.16326531,\n",
              "       10.20408163, 12.24489796, 14.28571429, 16.32653061, 18.36734694,\n",
              "       20.40816327, 22.44897959, 24.48979592, 26.53061224, 28.57142857,\n",
              "        0.        ,  0.        ,  0.        ,  0.        ,  0.        ,\n",
              "        0.        ,  0.        ,  0.        ,  0.        ,  0.        ,\n",
              "        0.        ,  0.        ,  0.        ,  0.        ,  0.        ,\n",
              "        0.        ,  0.        ,  0.        ,  0.        ,  0.        ,\n",
              "        0.        ,  0.        ,  0.        ,  0.        ,  0.        ,\n",
              "        0.        ,  0.        ,  0.        ,  0.        ,  0.        ,\n",
              "        0.        ,  0.        ,  0.        ,  0.        ,  0.        ])"
            ]
          },
          "metadata": {},
          "execution_count": 3
        }
      ]
    },
    {
      "cell_type": "code",
      "source": [
        "nuevos_valores =np.where(valores<30) #devuelve los indices\n",
        "nuevos_valores"
      ],
      "metadata": {
        "colab": {
          "base_uri": "https://localhost:8080/"
        },
        "id": "BPlBrHgqr-1m",
        "outputId": "d1c20da0-ab37-452e-b4c2-62f1d71d2ca2"
      },
      "execution_count": 4,
      "outputs": [
        {
          "output_type": "execute_result",
          "data": {
            "text/plain": [
              "(array([ 0,  1,  2,  3,  4,  5,  6,  7,  8,  9, 10, 11, 12, 13, 14]),)"
            ]
          },
          "metadata": {},
          "execution_count": 4
        }
      ]
    },
    {
      "cell_type": "code",
      "source": [
        "\n",
        "nuevos_valores =np.where(valores<= 44.89795918)\n",
        "nuevos_valores"
      ],
      "metadata": {
        "colab": {
          "base_uri": "https://localhost:8080/"
        },
        "id": "hj7-gQMdsAGW",
        "outputId": "71c3e2ed-98d5-4dc3-d8b5-60f83e1a3d07"
      },
      "execution_count": 5,
      "outputs": [
        {
          "output_type": "execute_result",
          "data": {
            "text/plain": [
              "(array([ 0,  1,  2,  3,  4,  5,  6,  7,  8,  9, 10, 11, 12, 13, 14, 15, 16,\n",
              "        17, 18, 19, 20, 21]),)"
            ]
          },
          "metadata": {},
          "execution_count": 5
        }
      ]
    },
    {
      "cell_type": "code",
      "source": [
        "valor=valores[22]\n",
        "valor\n",
        ""
      ],
      "metadata": {
        "colab": {
          "base_uri": "https://localhost:8080/"
        },
        "id": "bWdCG-G8sCgO",
        "outputId": "b456bca5-320d-4923-b14b-b3e50dc925c2"
      },
      "execution_count": 6,
      "outputs": [
        {
          "output_type": "execute_result",
          "data": {
            "text/plain": [
              "44.89795918367347"
            ]
          },
          "metadata": {},
          "execution_count": 6
        }
      ]
    },
    {
      "cell_type": "code",
      "source": [
        "\n",
        "valores_2=valores[[1,34,12]] #[] indice de un arreglo #[[]] sacar el indice del arreglo\n",
        "valores_2"
      ],
      "metadata": {
        "colab": {
          "base_uri": "https://localhost:8080/"
        },
        "id": "Lmf19dSIsFe1",
        "outputId": "f5070efb-44f5-4dba-b994-f67f073c57c6"
      },
      "execution_count": 7,
      "outputs": [
        {
          "output_type": "execute_result",
          "data": {
            "text/plain": [
              "array([ 2.04081633, 69.3877551 , 24.48979592])"
            ]
          },
          "metadata": {},
          "execution_count": 7
        }
      ]
    },
    {
      "cell_type": "code",
      "source": [
        "\n",
        "import numpy as np\n",
        "x= np.linspace(0, 10, 100)\n",
        "y=math.log( x+math.sin(math.pi/2))+math.sqrt(math.atan( x/5 +math.pi/8))"
      ],
      "metadata": {
        "colab": {
          "base_uri": "https://localhost:8080/",
          "height": 176
        },
        "id": "YgU5A__lsMYH",
        "outputId": "3e882e2f-610b-41b8-9cac-46268db0fe7b"
      },
      "execution_count": 8,
      "outputs": [
        {
          "output_type": "error",
          "ename": "TypeError",
          "evalue": "only length-1 arrays can be converted to Python scalars",
          "traceback": [
            "\u001b[0;31m---------------------------------------------------------------------------\u001b[0m",
            "\u001b[0;31mTypeError\u001b[0m                                 Traceback (most recent call last)",
            "\u001b[0;32m<ipython-input-8-0c03c6ebc68c>\u001b[0m in \u001b[0;36m<cell line: 3>\u001b[0;34m()\u001b[0m\n\u001b[1;32m      1\u001b[0m \u001b[0;32mimport\u001b[0m \u001b[0mnumpy\u001b[0m \u001b[0;32mas\u001b[0m \u001b[0mnp\u001b[0m\u001b[0;34m\u001b[0m\u001b[0;34m\u001b[0m\u001b[0m\n\u001b[1;32m      2\u001b[0m \u001b[0mx\u001b[0m\u001b[0;34m=\u001b[0m \u001b[0mnp\u001b[0m\u001b[0;34m.\u001b[0m\u001b[0mlinspace\u001b[0m\u001b[0;34m(\u001b[0m\u001b[0;36m0\u001b[0m\u001b[0;34m,\u001b[0m \u001b[0;36m10\u001b[0m\u001b[0;34m,\u001b[0m \u001b[0;36m100\u001b[0m\u001b[0;34m)\u001b[0m\u001b[0;34m\u001b[0m\u001b[0;34m\u001b[0m\u001b[0m\n\u001b[0;32m----> 3\u001b[0;31m \u001b[0my\u001b[0m\u001b[0;34m=\u001b[0m\u001b[0mmath\u001b[0m\u001b[0;34m.\u001b[0m\u001b[0mlog\u001b[0m\u001b[0;34m(\u001b[0m \u001b[0mx\u001b[0m\u001b[0;34m+\u001b[0m\u001b[0mmath\u001b[0m\u001b[0;34m.\u001b[0m\u001b[0msin\u001b[0m\u001b[0;34m(\u001b[0m\u001b[0mmath\u001b[0m\u001b[0;34m.\u001b[0m\u001b[0mpi\u001b[0m\u001b[0;34m/\u001b[0m\u001b[0;36m2\u001b[0m\u001b[0;34m)\u001b[0m\u001b[0;34m)\u001b[0m\u001b[0;34m+\u001b[0m\u001b[0mmath\u001b[0m\u001b[0;34m.\u001b[0m\u001b[0msqrt\u001b[0m\u001b[0;34m(\u001b[0m\u001b[0mmath\u001b[0m\u001b[0;34m.\u001b[0m\u001b[0matan\u001b[0m\u001b[0;34m(\u001b[0m \u001b[0mx\u001b[0m\u001b[0;34m/\u001b[0m\u001b[0;36m5\u001b[0m \u001b[0;34m+\u001b[0m\u001b[0mmath\u001b[0m\u001b[0;34m.\u001b[0m\u001b[0mpi\u001b[0m\u001b[0;34m/\u001b[0m\u001b[0;36m8\u001b[0m\u001b[0;34m)\u001b[0m\u001b[0;34m)\u001b[0m\u001b[0;34m\u001b[0m\u001b[0;34m\u001b[0m\u001b[0m\n\u001b[0m",
            "\u001b[0;31mTypeError\u001b[0m: only length-1 arrays can be converted to Python scalars"
          ]
        }
      ]
    },
    {
      "cell_type": "code",
      "source": [
        "import numpy as np\n",
        "x= np.linspace(0, 10, 100) #\"x\" es un arreglo. sin importar si es mayúcula o minuscúla\n",
        "y=np.log( x+np.sin(np.pi/2))+np.sqrt(np.arctan( x/5 +np.pi/8))\n",
        "y\n",
        ""
      ],
      "metadata": {
        "colab": {
          "base_uri": "https://localhost:8080/"
        },
        "id": "CTg3F4B3sqkf",
        "outputId": "76ad391e-ca34-431d-b7d5-ca030ccac635"
      },
      "execution_count": 9,
      "outputs": [
        {
          "output_type": "execute_result",
          "data": {
            "text/plain": [
              "array([0.61171618, 0.72199021, 0.82331108, 0.91707211, 1.00435755,\n",
              "       1.08602827, 1.16277966, 1.23518183, 1.30370831, 1.36875694,\n",
              "       1.4306654 , 1.4897229 , 1.54617918, 1.60025153, 1.65213023,\n",
              "       1.70198298, 1.7499584 , 1.79618884, 1.84079279, 1.88387677,\n",
              "       1.9255369 , 1.9658603 , 2.00492615, 2.04280672, 2.0795681 ,\n",
              "       2.11527095, 2.1499711 , 2.18372002, 2.21656532, 2.2485511 ,\n",
              "       2.27971832, 2.31010509, 2.33974693, 2.36867702, 2.39692636,\n",
              "       2.42452404, 2.4514973 , 2.47787178, 2.50367158, 2.52891939,\n",
              "       2.55363664, 2.57784354, 2.6015592 , 2.62480173, 2.64758824,\n",
              "       2.66993499, 2.6918574 , 2.71337012, 2.73448707, 2.7552215 ,\n",
              "       2.77558604, 2.79559271, 2.81525299, 2.83457781, 2.85357765,\n",
              "       2.87226248, 2.89064187, 2.90872495, 2.9265205 , 2.94403688,\n",
              "       2.96128215, 2.97826402, 2.99498988, 3.01146685, 3.02770174,\n",
              "       3.04370112, 3.0594713 , 3.07501834, 3.09034808, 3.10546614,\n",
              "       3.12037794, 3.13508871, 3.14960346, 3.16392705, 3.17806416,\n",
              "       3.19201932, 3.20579688, 3.21940106, 3.23283592, 3.24610541,\n",
              "       3.25921332, 3.27216335, 3.28495904, 3.29760385, 3.31010111,\n",
              "       3.32245405, 3.3346658 , 3.3467394 , 3.35867778, 3.3704838 ,\n",
              "       3.38216022, 3.39370972, 3.4051349 , 3.4164383 , 3.42762236,\n",
              "       3.43868946, 3.44964193, 3.460482  , 3.47121186, 3.48183364])"
            ]
          },
          "metadata": {},
          "execution_count": 9
        }
      ]
    },
    {
      "cell_type": "code",
      "source": [
        "import matplotlib.pyplot as plt\n",
        "miGrafica= plt.figure(figsize=(10,5))\n",
        "plt.title('Función Logaritmica')\n",
        "plt.xlabel('Eje X')\n",
        "plt.ylabel('Eje Y')\n",
        "plt.grid(True)\n",
        "plt.plot(x, y, color='blue', label='función')\n",
        "plt.legend()\n",
        "plt.plot(x,y)\n",
        "plt.show()\n",
        ""
      ],
      "metadata": {
        "colab": {
          "base_uri": "https://localhost:8080/",
          "height": 488
        },
        "id": "RddmWlZust2m",
        "outputId": "6a2d49e2-58b3-4db7-98c1-e86b375b0aad"
      },
      "execution_count": 10,
      "outputs": [
        {
          "output_type": "display_data",
          "data": {
            "text/plain": [
              "<Figure size 1000x500 with 1 Axes>"
            ],
            "image/png": "[encoded data removed]"
          },
          "metadata": {}
        }
      ]
    }
  ]
}